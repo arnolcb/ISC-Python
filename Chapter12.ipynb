{
 "cells": [
  {
   "attachments": {},
   "cell_type": "markdown",
   "metadata": {},
   "source": [
    "# Chapter 12 - Networks and Sockets\n",
    "Notes and examples from Chapter 12 of ISC Python Cousera course"
   ]
  },
  {
   "attachments": {},
   "cell_type": "markdown",
   "metadata": {},
   "source": [
    "### 12.1 - Networked Technology"
   ]
  },
  {
   "attachments": {},
   "cell_type": "markdown",
   "metadata": {},
   "source": [
    "### Transport Control Protocol (TCP)\n",
    "\n",
    ". Built on top of IP (Internet Protocol)  \n",
    ". Assumes IP might lose some data - stores and retransmits data if it seems to be lost  \n",
    ". Handles \"flow control\" using a transmit window  \n",
    ". Provides a nice reliable pipe"
   ]
  },
  {
   "attachments": {},
   "cell_type": "markdown",
   "metadata": {},
   "source": [
    "### TCP Connections / Sockets\n",
    "\"In computer networking, an Internet socket or network socket is an endpoint of a bidirectional inter-process communication flow across an Internet Protocol-based computer network, such as the Internet.\"  "
   ]
  },
  {
   "cell_type": "code",
   "execution_count": null,
   "metadata": {},
   "outputs": [],
   "source": []
  }
 ],
 "metadata": {
  "language_info": {
   "name": "python"
  },
  "orig_nbformat": 4
 },
 "nbformat": 4,
 "nbformat_minor": 2
}
