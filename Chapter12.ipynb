{
 "cells": [
  {
   "attachments": {},
   "cell_type": "markdown",
   "metadata": {},
   "source": [
    "# Chapter 12 - Networks and Sockets\n",
    "Notes and examples from Chapter 12 of ISC Python Cousera course"
   ]
  },
  {
   "attachments": {},
   "cell_type": "markdown",
   "metadata": {},
   "source": [
    "### 12.1 - Networked Technology"
   ]
  },
  {
   "attachments": {},
   "cell_type": "markdown",
   "metadata": {},
   "source": [
    "### Transport Control Protocol (TCP)\n",
    "\n",
    ". Built on top of IP (Internet Protocol)  \n",
    ". Assumes IP might lose some data - stores and retransmits data if it seems to be lost  \n",
    ". Handles \"flow control\" using a transmit window  \n",
    ". Provides a nice reliable pipe"
   ]
  },
  {
   "attachments": {},
   "cell_type": "markdown",
   "metadata": {},
   "source": [
    "### TCP Connections / Sockets\n",
    "\"In computer networking, an Internet socket or network socket is an endpoint of a bidirectional inter-process communication flow across an Internet Protocol-based computer network, such as the Internet.\"  "
   ]
  },
  {
   "attachments": {},
   "cell_type": "markdown",
   "metadata": {},
   "source": [
    "### TCP Port Numbers\n",
    ". A port is an application-specific or process-specific software communications endpoint  \n",
    ". It allows multiple networked applications to coexist on the same server  \n",
    ". There is a list of well-known TCP port numbers  \n",
    ". Many applications have a \"well known\" port number (HTTP = 80, HTTPS = 443, SSH = 22, Telnet = 23, SMTP = 25, FTP = 21, etc.)  \n"
   ]
  },
  {
   "cell_type": "code",
   "execution_count": 1,
   "metadata": {},
   "outputs": [],
   "source": [
    "\"\"\"Sockets in Python\"\"\"\n",
    "\n",
    "import socket\n",
    "mysock = socket.socket(socket.AF_INET, socket.SOCK_STREAM)\n",
    "mysock.connect(('data.pr4e.org', 80))"
   ]
  },
  {
   "attachments": {},
   "cell_type": "markdown",
   "metadata": {},
   "source": [
    "### 12.2 - HyperText Transport Protocol - HTTP"
   ]
  },
  {
   "attachments": {},
   "cell_type": "markdown",
   "metadata": {},
   "source": []
  }
 ],
 "metadata": {
  "kernelspec": {
   "display_name": "Python 3",
   "language": "python",
   "name": "python3"
  },
  "language_info": {
   "codemirror_mode": {
    "name": "ipython",
    "version": 3
   },
   "file_extension": ".py",
   "mimetype": "text/x-python",
   "name": "python",
   "nbconvert_exporter": "python",
   "pygments_lexer": "ipython3",
   "version": "3.11.2"
  },
  "orig_nbformat": 4
 },
 "nbformat": 4,
 "nbformat_minor": 2
}
