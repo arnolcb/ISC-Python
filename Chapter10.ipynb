{
 "cells": [
  {
   "attachments": {},
   "cell_type": "markdown",
   "metadata": {},
   "source": [
    "# Chapter 10: Tuples\n",
    "Notes and examples from Chapter 10 of ISC Python Coursera course."
   ]
  },
  {
   "cell_type": "code",
   "execution_count": 33,
   "metadata": {},
   "outputs": [
    {
     "name": "stdout",
     "output_type": "stream",
     "text": [
      "()\n",
      "('l',)\n",
      "('l', 'u', 'p', 'i', 'n', 'e', 's')\n"
     ]
    }
   ],
   "source": [
    "#Tuples are like lists\n",
    "\n",
    "#Las tuplas son como las listas, pero no se pueden modificar\n",
    "#Ejemplo de tupla\n",
    "t = tuple()\n",
    "print(t)\n",
    "\n",
    "#Ejemplo de tupla con un elemento\n",
    "t = tuple('l')\n",
    "print(t)\n",
    "\n",
    "#Ejemplo de tupla con varios elementos\n",
    "t = tuple('lupines')\n",
    "print(t)"
   ]
  },
  {
   "cell_type": "code",
   "execution_count": 34,
   "metadata": {},
   "outputs": [
    {
     "name": "stdout",
     "output_type": "stream",
     "text": [
      "[1, 2, 3]\n"
     ]
    },
    {
     "ename": "TypeError",
     "evalue": "'tuple' object does not support item assignment",
     "output_type": "error",
     "traceback": [
      "\u001b[1;31m---------------------------------------------------------------------------\u001b[0m",
      "\u001b[1;31mTypeError\u001b[0m                                 Traceback (most recent call last)",
      "Cell \u001b[1;32mIn[34], line 13\u001b[0m\n\u001b[0;32m      9\u001b[0m \u001b[39m#Tuples are immutable\u001b[39;00m\n\u001b[0;32m     10\u001b[0m \n\u001b[0;32m     11\u001b[0m \u001b[39m#Example:\u001b[39;00m\n\u001b[0;32m     12\u001b[0m t \u001b[39m=\u001b[39m (\u001b[39m1\u001b[39m,\u001b[39m2\u001b[39m,\u001b[39m4\u001b[39m)\n\u001b[1;32m---> 13\u001b[0m t[\u001b[39m2\u001b[39;49m] \u001b[39m=\u001b[39m \u001b[39m3\u001b[39m\n\u001b[0;32m     15\u001b[0m \u001b[39mprint\u001b[39m(t)\n",
      "\u001b[1;31mTypeError\u001b[0m: 'tuple' object does not support item assignment"
     ]
    }
   ],
   "source": [
    "#Lists are mutable\n",
    "\n",
    "#Example:\n",
    "lista = [1,2,4]\n",
    "lista[2] = 3\n",
    "\n",
    "print(lista)\n",
    "\n",
    "#Tuples are immutable\n",
    "\n",
    "#Example:\n",
    "t = (1,2,4)\n",
    "t[2] = 3\n",
    "\n",
    "print(t)"
   ]
  },
  {
   "cell_type": "code",
   "execution_count": null,
   "metadata": {},
   "outputs": [
    {
     "name": "stdout",
     "output_type": "stream",
     "text": [
      "fred\n",
      "99\n"
     ]
    }
   ],
   "source": [
    "#Tuples and assignment\n",
    "\n",
    "#Example:\n",
    "(x,y) = (4,'fred')\n",
    "print(y)\n",
    "\n",
    "(a,b) = (99,98)\n",
    "print(a)"
   ]
  },
  {
   "cell_type": "code",
   "execution_count": null,
   "metadata": {},
   "outputs": [
    {
     "name": "stdout",
     "output_type": "stream",
     "text": [
      "csev 2\n",
      "cwen 4\n",
      "dict_items([('csev', 2), ('cwen', 4)])\n"
     ]
    }
   ],
   "source": [
    "#Tuples and dictionaries\n",
    "\n",
    "d = dict()\n",
    "d['csev'] = 2\n",
    "d['cwen'] = 4\n",
    "\n",
    "for (k,v) in d.items():\n",
    "    print(k,v)\n",
    "\n",
    "#The items() method in dictionaries returns \n",
    "#a list of (key,value) tuples\n",
    "tups = d.items()\n",
    "print(tups)"
   ]
  },
  {
   "cell_type": "code",
   "execution_count": null,
   "metadata": {},
   "outputs": [
    {
     "name": "stdout",
     "output_type": "stream",
     "text": [
      "True\n",
      "True\n",
      "True\n",
      "True\n"
     ]
    }
   ],
   "source": [
    "#Tuples are comparable\n",
    "\n",
    "#La comparación de operadores funciona con tuplas y otros tipos de secuencia\n",
    "#Si el primer elemento es igual, Python va al siguiente elemento, y así sucesivamente\n",
    "#Si el primer elemento es diferente, ya no importa lo que el resto de los elementos sean\n",
    "\n",
    "#Example:\n",
    "b = (0,1,2) < (5,1,2)\n",
    "print(b)\n",
    "b = (0,1,2000000) < (0,3,4)\n",
    "print(b)\n",
    "b = ('Jones','Sally') < ('Jones','Sam')\n",
    "print(b)\n",
    "b = ('Jones', 'Sally') > ('Adams', 'Sam')\n",
    "print(b)"
   ]
  },
  {
   "cell_type": "code",
   "execution_count": null,
   "metadata": {},
   "outputs": [
    {
     "name": "stdout",
     "output_type": "stream",
     "text": [
      "dict_items([('a', 10), ('b', 1), ('c', 22)]) \n",
      "\n",
      "[('a', 10), ('b', 1), ('c', 22)] \n",
      "\n",
      "a 10\n",
      "b 1\n",
      "c 22\n"
     ]
    }
   ],
   "source": [
    "#Sorting lists of tuples\n",
    "\n",
    "#Nosotros podemos tomar ventaja de la capacidad de comparación de tuplas para ordenar un diccionario\n",
    "#Primero nosotros ordenamos el diccionario por los valores usando el método items() y sorted() de Python\n",
    "\n",
    "#Example:\n",
    "d = {'a':10, 'b':1, 'c':22}\n",
    "print(d.items(),\"\\n\")\n",
    "\n",
    "t = sorted(d.items())\n",
    "print(t,\"\\n\")\n",
    "\n",
    "for k,v in sorted(d.items()):\n",
    "    print(k,v)"
   ]
  },
  {
   "cell_type": "code",
   "execution_count": 39,
   "metadata": {},
   "outputs": [
    {
     "name": "stdout",
     "output_type": "stream",
     "text": [
      "[(10, 'a'), (1, 'b'), (22, 'c')] \n",
      "\n",
      "[(22, 'c'), (10, 'a'), (1, 'b')] \n",
      "\n"
     ]
    }
   ],
   "source": [
    "#Sort by values instead of key\n",
    "\n",
    "c = {'a':10, 'b':1, 'c':22}\n",
    "temp = []\n",
    "\n",
    "for k,v in c.items():\n",
    "    temp.append((v,k))\n",
    "\n",
    "print(temp,\"\\n\")\n",
    "\n",
    "temp = sorted(temp, reverse=True)\n",
    "print(temp,\"\\n\")\n",
    "\n",
    "#Y así terminamos con una lista de tuplas ordenadas"
   ]
  },
  {
   "cell_type": "code",
   "execution_count": 43,
   "metadata": {},
   "outputs": [
    {
     "name": "stdout",
     "output_type": "stream",
     "text": [
      "the 5\n",
      "is 5\n",
      "This 5\n",
      "line 4\n",
      "third 1\n",
      "text 1\n",
      "second 1\n",
      "fourth 1\n",
      "for 1\n",
      "file 1\n"
     ]
    }
   ],
   "source": [
    "#The top 10 most common words\n",
    "\n",
    "fhand = open('./docs/chapter9file.txt')\n",
    "counts = dict()\n",
    "\n",
    "for line in fhand:\n",
    "    words = line.split()\n",
    "    for word in words:\n",
    "        counts[word] = counts.get(word,0) + 1\n",
    "\n",
    "lst = []\n",
    "\n",
    "for key, val in counts.items():\n",
    "    newtup = (val,key)\n",
    "    lst.append(newtup)\n",
    "\n",
    "lst = sorted(lst, reverse=True)\n",
    "#Esto hace que se imprima de mayor a menor\n",
    "\n",
    "for val, key in lst[:10] :\n",
    "    #lst[:10] imprime los primeros 10 elementos de la lista\n",
    "    print(key,val)"
   ]
  },
  {
   "cell_type": "code",
   "execution_count": 44,
   "metadata": {},
   "outputs": [
    {
     "name": "stdout",
     "output_type": "stream",
     "text": [
      "[(1, 'b'), (10, 'a'), (22, 'c')]\n"
     ]
    }
   ],
   "source": [
    "#Siempre hay una forma más simple de hacer las cosas\n",
    "\n",
    "c = {'a':10, 'b':1, 'c':22}\n",
    "\n",
    "print(sorted([(v,k) for k,v in c.items()]))"
   ]
  }
 ],
 "metadata": {
  "kernelspec": {
   "display_name": "Python 3",
   "language": "python",
   "name": "python3"
  },
  "language_info": {
   "codemirror_mode": {
    "name": "ipython",
    "version": 3
   },
   "file_extension": ".py",
   "mimetype": "text/x-python",
   "name": "python",
   "nbconvert_exporter": "python",
   "pygments_lexer": "ipython3",
   "version": "3.11.2"
  },
  "orig_nbformat": 4
 },
 "nbformat": 4,
 "nbformat_minor": 2
}
