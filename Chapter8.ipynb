{
 "cells": [
  {
   "attachments": {},
   "cell_type": "markdown",
   "metadata": {},
   "source": [
    "# Chapter 8: Lists\n",
    "Notes and examples from Chapter 8 of ISC Python Coursera course."
   ]
  },
  {
   "attachments": {},
   "cell_type": "markdown",
   "metadata": {},
   "source": [
    "### 8.1 Lists"
   ]
  },
  {
   "cell_type": "code",
   "execution_count": 9,
   "metadata": {},
   "outputs": [
    {
     "name": "stdout",
     "output_type": "stream",
     "text": [
      "Primer elemento:  1\n",
      "Recorriendo la lista\n",
      "1\n",
      "2\n",
      "3\n",
      "4\n",
      "5\n",
      "Cambiando el primer elemento (1) por 10\n",
      "list1[0] =  10\n",
      "Agregando un elemento (6) a la lista\n",
      "Eliminando el primer elemento (10)\n",
      "Recorriendo la lista\n",
      "2\n",
      "3\n",
      "4\n",
      "5\n",
      "6\n",
      "Imprimiendo el tamaño de la lista\n",
      "5\n"
     ]
    }
   ],
   "source": [
    "#Defining a list\n",
    "list1 = [1,2,3,4,5]\n",
    "\n",
    "#Accessing a list\n",
    "print(\"Primer elemento: \",list1[0]) #prints 1\n",
    "\n",
    "print(\"Recorriendo la lista\")\n",
    "for i in list1:\n",
    "    print(i)\n",
    "\n",
    "#Changing a list\n",
    "print(\"Cambiando el primer elemento (1) por 10\")\n",
    "list1[0] = 10\n",
    "print(\"list1[0] = \",list1[0]) #prints 10\n",
    "\n",
    "#Adding to a list\n",
    "print(\"Agregando un elemento (6) a la lista\")\n",
    "list1.append(6)\n",
    "#Append agrega un elemento a la lista\n",
    "\n",
    "#Deleting from a list\n",
    "print(\"Eliminando el primer elemento (10)\")\n",
    "del list1[0]\n",
    "#del elimina un elemento de la lista\n",
    "\n",
    "print(\"Recorriendo la lista\")\n",
    "for i in list1:\n",
    "    print(i)\n",
    "\n",
    "#Len of a list\n",
    "print(\"Imprimiendo el tamaño de la lista\")\n",
    "print(len(list1)) #prints 5 porque se elimino el elemento 0"
   ]
  },
  {
   "attachments": {},
   "cell_type": "markdown",
   "metadata": {},
   "source": [
    "### 8.2 Manipulating Lists"
   ]
  },
  {
   "cell_type": "code",
   "execution_count": 11,
   "metadata": {},
   "outputs": [
    {
     "name": "stdout",
     "output_type": "stream",
     "text": [
      "[41, 12]\n",
      "[3, 9, 12, 15, 41, 74]\n",
      "['book', 99]\n",
      "True\n",
      "False\n",
      "21\n",
      "1\n",
      "57\n",
      "11.4\n"
     ]
    }
   ],
   "source": [
    "#Concatenating lists\n",
    "\n",
    "#List can be sliced using\n",
    "t = [9,41,12,3,74,15]\n",
    "\"\"\"=[0,1 ,2 ,3 ,4, 5]\"\"\"\n",
    "print(t[1:3]) #prints [41,12]\n",
    "\n",
    "#Sorting lists\n",
    "t.sort()\n",
    "print(t) #prints [3,9,12,15,41,74]\n",
    "\n",
    "#Las listas son funciones\n",
    "stuff = list()\n",
    "\n",
    "stuff.append('book')\n",
    "stuff.append(99)\n",
    "\n",
    "print(stuff)\n",
    "\n",
    "#Is something in a list?\n",
    "some = [1,9,21,10,16]\n",
    "print(9 in some) #prints True\n",
    "print(15 in some) #prints False\n",
    "\n",
    "#Otras funciones\n",
    "#Max and min\n",
    "print(max(some)) #prints 21\n",
    "print(min(some)) #prints 1\n",
    "\n",
    "#Sum\n",
    "print(sum(some)) #prints 57\n",
    "\n",
    "#Average - promedio\n",
    "print(sum(some)/len(some)) #prints 11.4\n"
   ]
  },
  {
   "cell_type": "code",
   "execution_count": 18,
   "metadata": {},
   "outputs": [
    {
     "name": "stdout",
     "output_type": "stream",
     "text": [
      "Calculadora de suma y promedio\n",
      "Escribe finish para terminar\n",
      "Suma:  78.0\n",
      "Promedio:  15.6\n"
     ]
    }
   ],
   "source": [
    "#Calculadora de suma y promedio\n",
    "\n",
    "numlist = list()\n",
    "print(\"Calculadora de suma y promedio\")\n",
    "print(\"Escribe finish para terminar\")\n",
    "while True:\n",
    "    num = input(\"Ingresa un número: \")\n",
    "    if num == 'finish':\n",
    "        break\n",
    "    value = float(num)\n",
    "    numlist.append(value)\n",
    "print(\"Suma: \",sum(numlist))\n",
    "print(\"Promedio: \",sum(numlist)/len(numlist))"
   ]
  },
  {
   "attachments": {},
   "cell_type": "markdown",
   "metadata": {},
   "source": [
    "### 8.3 Lists and strings"
   ]
  },
  {
   "cell_type": "code",
   "execution_count": 6,
   "metadata": {},
   "outputs": [
    {
     "name": "stdout",
     "output_type": "stream",
     "text": [
      "['With', 'three', 'words']\n",
      "With\n",
      "three\n",
      "words\n",
      "['first', 'second', 'third']\n"
     ]
    }
   ],
   "source": [
    "#Función split\n",
    "\n",
    "abc = 'With three words'\n",
    "stuff = abc.split()\n",
    "print(stuff)\n",
    "\n",
    "for w in stuff:\n",
    "    print(w)\n",
    "\n",
    "#Split con delimitador\n",
    "#Cuando no se define un delimitador, el delimitador por default es el espacio () -> \" \"\n",
    "#Pero se puede definir un delimitador\n",
    "\n",
    "line1 = 'first;second;third'\n",
    "thing = line1.split(';')\n",
    "print(thing)"
   ]
  },
  {
   "cell_type": "code",
   "execution_count": 10,
   "metadata": {},
   "outputs": [
    {
     "name": "stdout",
     "output_type": "stream",
     "text": [
      "['From', 'stephen.marquard@uct.ac.za', 'Sat', 'Jan', '5', '09:14:16', '2008']\n",
      "stephen.marquard@uct.ac.za\n",
      "['stephen.marquard', 'uct.ac.za']\n"
     ]
    }
   ],
   "source": [
    "#Double split pattern\n",
    "#Aveces dividir una cadena no es suficiente, se necesita dividir una cadena y luego dividir cada una de las cadenas resultantes\n",
    "\n",
    "line = \"From stephen.marquard@uct.ac.za Sat Jan 5 09:14:16 2008\"\n",
    "\n",
    "words = line.split()\n",
    "print(words)\n",
    "\n",
    "#Elegimos la palabra 1 (correo)\n",
    "email = words[1]\n",
    "print(email)\n",
    "\n",
    "pieces = email.split('@')\n",
    "print(pieces)"
   ]
  }
 ],
 "metadata": {
  "kernelspec": {
   "display_name": "Python 3",
   "language": "python",
   "name": "python3"
  },
  "language_info": {
   "codemirror_mode": {
    "name": "ipython",
    "version": 3
   },
   "file_extension": ".py",
   "mimetype": "text/x-python",
   "name": "python",
   "nbconvert_exporter": "python",
   "pygments_lexer": "ipython3",
   "version": "3.11.2"
  },
  "orig_nbformat": 4
 },
 "nbformat": 4,
 "nbformat_minor": 2
}
