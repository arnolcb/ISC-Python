{
 "cells": [
  {
   "attachments": {},
   "cell_type": "markdown",
   "metadata": {},
   "source": [
    "# Chapter 11 - Regular Expressions\n",
    "Notes and examples from Chapter 11 of ISC Python Cousera course"
   ]
  },
  {
   "attachments": {},
   "cell_type": "markdown",
   "metadata": {},
   "source": [
    "### 11.1 - Regular Expressions"
   ]
  },
  {
   "cell_type": "code",
   "execution_count": 2,
   "metadata": {},
   "outputs": [
    {
     "data": {
      "text/plain": [
       "'\\n^       - Matches the beginning of a line\\n$       - Matches the end of the line\\n.       - Matches any character\\n\\\\s      - Matches whitespace\\n\\\\S      - Matches any non-whitespace character\\n*       - Repeats a character zero or more times\\n*?      - Repeats a character zero or more times (non-greedy)\\n+       - Repeats a character one or more times\\n+?      - Repeats a character one or more times (non-greedy)\\n[aeiou] - Matches a single character not in the listed set\\n[^XYZ]  - Matches a single character not in the listed set\\n[a-z0-9]- The set of characters can include a range\\n(       - Indicates where string extraction is to start\\n)       - Indicates where string extraction is to end\\n'"
      ]
     },
     "execution_count": 2,
     "metadata": {},
     "output_type": "execute_result"
    }
   ],
   "source": [
    "#Regular Expressions - Notes\n",
    "\"\"\"\n",
    "^       - Matches the beginning of a line\n",
    "$       - Matches the end of the line\n",
    ".       - Matches any character\n",
    "\\s      - Matches whitespace\n",
    "\\S      - Matches any non-whitespace character\n",
    "*       - Repeats a character zero or more times\n",
    "*?      - Repeats a character zero or more times (non-greedy)\n",
    "+       - Repeats a character one or more times\n",
    "+?      - Repeats a character one or more times (non-greedy)\n",
    "[aeiou] - Matches a single character not in the listed set\n",
    "[^XYZ]  - Matches a single character not in the listed set\n",
    "[a-z0-9]- The set of characters can include a range\n",
    "(       - Indicates where string extraction is to start\n",
    ")       - Indicates where string extraction is to end\n",
    "\"\"\""
   ]
  },
  {
   "cell_type": "code",
   "execution_count": 3,
   "metadata": {},
   "outputs": [
    {
     "name": "stdout",
     "output_type": "stream",
     "text": [
      "This is an text file for the chapter 9\n",
      "This is the second line\n",
      "This is the third line\n",
      "This is the fourth line\n",
      "This is the fifth line\n"
     ]
    }
   ],
   "source": [
    "#Using re.search() like find()\n",
    "\n",
    "import re\n",
    "hand = open('./docs/chapter9file.txt')\n",
    "for line in hand:\n",
    "    line = line.rstrip()\n",
    "    if re.search('This', line):\n",
    "        print(line)\n",
    "\n",
    "#Este código busca la palabra 'This' en cada línea del archivo\n",
    "# y si la encuentra, imprime la línea."
   ]
  },
  {
   "cell_type": "code",
   "execution_count": 4,
   "metadata": {},
   "outputs": [],
   "source": [
    "#Wild-Card Characters\n",
    "\n",
    "#El punto (.) es un carácter comodín que coincide con cualquier carácter.\n",
    "#Si pones el punto en una expresión regular, coincide con cualquier carácter\n",
    "\n",
    "#Si añades el asterisco (.*), la expresión regular coincide con cualquier\n",
    "#secuencia de caracteres (incluyendo espacios en blanco)"
   ]
  },
  {
   "attachments": {},
   "cell_type": "markdown",
   "metadata": {},
   "source": [
    "### 11.2 - Extracting Data"
   ]
  },
  {
   "cell_type": "code",
   "execution_count": 5,
   "metadata": {},
   "outputs": [
    {
     "name": "stdout",
     "output_type": "stream",
     "text": [
      "['2', '19', '42']\n"
     ]
    }
   ],
   "source": [
    "#Matching and Extracting Data\n",
    "\n",
    "#Si queremos extraer datos de una cadena en Python podemos usar la función\n",
    "#findall() para extraer todas las subcadenas que coincidan con una expresión\n",
    "\n",
    "#re.search() devuelve un True/False dependiendo de si la cadena coincide con\n",
    "#la expresión regular\n",
    "\n",
    "X = 'My 2 favorite numbers are 19 and 42'\n",
    "y = re.findall('[0-9]+', X)\n",
    "print(y)"
   ]
  },
  {
   "attachments": {},
   "cell_type": "markdown",
   "metadata": {},
   "source": [
    "![Extracting Data](./images/regexp1.png)"
   ]
  },
  {
   "attachments": {},
   "cell_type": "markdown",
   "metadata": {},
   "source": [
    "![Greedy Matching](./images/regexp2.png)"
   ]
  },
  {
   "cell_type": "code",
   "execution_count": 6,
   "metadata": {},
   "outputs": [
    {
     "name": "stdout",
     "output_type": "stream",
     "text": [
      "['From: Using the :']\n"
     ]
    }
   ],
   "source": [
    "x = 'From: Using the : character'\n",
    "y = re.findall('^F.+:', x)\n",
    "print(y)\n",
    "\n",
    "#Greedy Matching\n",
    "\n",
    "#El carácter comodín extiende la coincidencia para incluir el mayor número\n",
    "#posible de caracteres"
   ]
  },
  {
   "cell_type": "code",
   "execution_count": 7,
   "metadata": {},
   "outputs": [
    {
     "name": "stdout",
     "output_type": "stream",
     "text": [
      "['stephen.marquard@uct.ac.za']\n"
     ]
    }
   ],
   "source": [
    "#Fine-Tuning String Extraction\n",
    "\n",
    "#Tú puedes afinar la búsqueda de re.findall() y separar las partes de la\n",
    "#cadena que te interesan usando paréntesis\n",
    "\n",
    "x = 'From stephen.marquard@uct.ac.za Sat Jan 5 09:14:16 2008'\n",
    "\n",
    "y = re.findall('\\S+@\\S+', x)\n",
    "print(y)"
   ]
  },
  {
   "attachments": {},
   "cell_type": "markdown",
   "metadata": {},
   "source": [
    "![Explain](./images/regexp3.png)"
   ]
  },
  {
   "cell_type": "code",
   "execution_count": 8,
   "metadata": {},
   "outputs": [
    {
     "name": "stdout",
     "output_type": "stream",
     "text": [
      "['stephen.marquard@uct.ac.za']\n"
     ]
    }
   ],
   "source": [
    "#The parentheses are not part of the match - but they tell where to start and\n",
    "#stop what string to extract\n",
    "\n",
    "y = re.findall('^From (\\S+@\\S+)', x)\n",
    "print(y)"
   ]
  },
  {
   "cell_type": "code",
   "execution_count": 9,
   "metadata": {},
   "outputs": [
    {
     "name": "stdout",
     "output_type": "stream",
     "text": [
      "['uct.ac.za']\n"
     ]
    }
   ],
   "source": [
    "#The Regex Version\n",
    "\n",
    "text = 'From stephen.marquard@uct.ac.za Sat Jan 5 09:14:16 2008'\n",
    "\n",
    "z = re.findall('@([^ ]*)', text)\n",
    "print(z)"
   ]
  },
  {
   "attachments": {},
   "cell_type": "markdown",
   "metadata": {},
   "source": [
    "![Explain](./images/regexversion.png)"
   ]
  },
  {
   "attachments": {},
   "cell_type": "markdown",
   "metadata": {},
   "source": [
    "![Explain](./images/regexversion2.png)"
   ]
  }
 ],
 "metadata": {
  "kernelspec": {
   "display_name": "Python 3",
   "language": "python",
   "name": "python3"
  },
  "language_info": {
   "codemirror_mode": {
    "name": "ipython",
    "version": 3
   },
   "file_extension": ".py",
   "mimetype": "text/x-python",
   "name": "python",
   "nbconvert_exporter": "python",
   "pygments_lexer": "ipython3",
   "version": "3.11.2"
  },
  "orig_nbformat": 4
 },
 "nbformat": 4,
 "nbformat_minor": 2
}
